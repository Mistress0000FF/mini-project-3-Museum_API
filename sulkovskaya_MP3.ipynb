{
 "cells": [
  {
   "cell_type": "code",
   "execution_count": 1,
   "metadata": {},
   "outputs": [],
   "source": [
    "import requests\n",
    "#Импортируем необходимые библиотеки"
   ]
  },
  {
   "cell_type": "markdown",
   "metadata": {},
   "source": [
    "# Задание №1"
   ]
  },
  {
   "cell_type": "markdown",
   "metadata": {},
   "source": [
    "Наша задача – найти все произведения, связанные с подсолнухами. Выполните поиск по слову \"sunflowers\". Посмотрим на формат ответа и сохраним id полученных объектов в список."
   ]
  },
  {
   "cell_type": "code",
   "execution_count": 2,
   "metadata": {},
   "outputs": [],
   "source": [
    "IDs = 'sunflowers'\n",
    "r = requests.get('https://collectionapi.metmuseum.org/public/collection/v1/search?q='+IDs)\n",
    "res = r.json()"
   ]
  },
  {
   "cell_type": "code",
   "execution_count": 3,
   "metadata": {},
   "outputs": [],
   "source": [
    "sunflowers = pd.DataFrame(res)"
   ]
  },
  {
   "cell_type": "code",
   "execution_count": 4,
   "metadata": {
    "scrolled": true
   },
   "outputs": [
    {
     "data": {
      "text/plain": [
       "0     436524\n",
       "1     484935\n",
       "2     437112\n",
       "3     210191\n",
       "4     431264\n",
       "       ...  \n",
       "85    437980\n",
       "86    631808\n",
       "87    834580\n",
       "88    834585\n",
       "89    834765\n",
       "Name: objectIDs, Length: 90, dtype: int64"
      ]
     },
     "execution_count": 4,
     "metadata": {},
     "output_type": "execute_result"
    }
   ],
   "source": [
    "sunflowers['objectIDs']"
   ]
  },
  {
   "cell_type": "markdown",
   "metadata": {},
   "source": [
    "# Задание №2"
   ]
  },
  {
   "cell_type": "markdown",
   "metadata": {},
   "source": [
    "Соберем информацию об некоторых объектах из вышеуказанного списка, а именно выполним запрос для объекта #437980:"
   ]
  },
  {
   "cell_type": "code",
   "execution_count": 5,
   "metadata": {},
   "outputs": [],
   "source": [
    "OBJECT_ID = '437980'\n",
    "r_test = requests.get(f'https://collectionapi.metmuseum.org/public/collection/v1/objects/'+OBJECT_ID)\n",
    "obj_test = r_test.json()"
   ]
  },
  {
   "cell_type": "code",
   "execution_count": 6,
   "metadata": {},
   "outputs": [
    {
     "data": {
      "text/plain": [
       "('Cypresses',\n",
       " '825',\n",
       " '',\n",
       " 'Vincent van Gogh',\n",
       " 437980,\n",
       " 'Painting',\n",
       " 'European Paintings')"
      ]
     },
     "execution_count": 6,
     "metadata": {},
     "output_type": "execute_result"
    }
   ],
   "source": [
    "obj_test['title'],obj_test['GalleryNumber'],obj_test['culture'],obj_test['artistDisplayName'],obj_test['objectID'],obj_test['objectName'],obj_test['department'] "
   ]
  },
  {
   "cell_type": "markdown",
   "metadata": {},
   "source": [
    "# Задание №3"
   ]
  },
  {
   "cell_type": "markdown",
   "metadata": {},
   "source": [
    "Напишем цикл, с помощью которого будет собрана информация об объектах, которые были получены в Задании №1. Результаты запишем в датафрейм."
   ]
  },
  {
   "cell_type": "code",
   "execution_count": 7,
   "metadata": {},
   "outputs": [],
   "source": [
    "df = pd.DataFrame()"
   ]
  },
  {
   "cell_type": "code",
   "execution_count": 8,
   "metadata": {},
   "outputs": [],
   "source": [
    "for object in sunflowers['objectIDs']:\n",
    "    r_test = requests.get(f'https://collectionapi.metmuseum.org/public/collection/v1/objects/'+str(object))\n",
    "    all_obj = r_test.json()\n",
    "    try:\n",
    "        df_temp = pd.DataFrame({'objectID':[all_obj['objectID']],\n",
    "                                'culture':[all_obj['culture']],\n",
    "                                'title':[all_obj['title']],\n",
    "                                'period':[all_obj['period']],\n",
    "                                'department':[all_obj['department']]})\n",
    "        df = pd.concat([df,df_temp], ignore_index=True)\n",
    "    except:\n",
    "        continue\n",
    "    "
   ]
  },
  {
   "cell_type": "code",
   "execution_count": 9,
   "metadata": {},
   "outputs": [
    {
     "data": {
      "text/html": [
       "<div>\n",
       "<style scoped>\n",
       "    .dataframe tbody tr th:only-of-type {\n",
       "        vertical-align: middle;\n",
       "    }\n",
       "\n",
       "    .dataframe tbody tr th {\n",
       "        vertical-align: top;\n",
       "    }\n",
       "\n",
       "    .dataframe thead th {\n",
       "        text-align: right;\n",
       "    }\n",
       "</style>\n",
       "<table border=\"1\" class=\"dataframe\">\n",
       "  <thead>\n",
       "    <tr style=\"text-align: right;\">\n",
       "      <th></th>\n",
       "      <th>objectID</th>\n",
       "      <th>culture</th>\n",
       "      <th>title</th>\n",
       "      <th>period</th>\n",
       "      <th>department</th>\n",
       "    </tr>\n",
       "  </thead>\n",
       "  <tbody>\n",
       "    <tr>\n",
       "      <th>0</th>\n",
       "      <td>436524</td>\n",
       "      <td></td>\n",
       "      <td>Sunflowers</td>\n",
       "      <td></td>\n",
       "      <td>European Paintings</td>\n",
       "    </tr>\n",
       "    <tr>\n",
       "      <th>1</th>\n",
       "      <td>484935</td>\n",
       "      <td></td>\n",
       "      <td>Sunflowers</td>\n",
       "      <td></td>\n",
       "      <td>Modern and Contemporary Art</td>\n",
       "    </tr>\n",
       "    <tr>\n",
       "      <th>2</th>\n",
       "      <td>437112</td>\n",
       "      <td></td>\n",
       "      <td>Bouquet of Sunflowers</td>\n",
       "      <td></td>\n",
       "      <td>European Paintings</td>\n",
       "    </tr>\n",
       "    <tr>\n",
       "      <th>3</th>\n",
       "      <td>210191</td>\n",
       "      <td></td>\n",
       "      <td>Vase with sunflowers</td>\n",
       "      <td></td>\n",
       "      <td>European Sculpture and Decorative Arts</td>\n",
       "    </tr>\n",
       "    <tr>\n",
       "      <th>4</th>\n",
       "      <td>431264</td>\n",
       "      <td></td>\n",
       "      <td>Sunflowers</td>\n",
       "      <td></td>\n",
       "      <td>Drawings and Prints</td>\n",
       "    </tr>\n",
       "    <tr>\n",
       "      <th>5</th>\n",
       "      <td>397949</td>\n",
       "      <td></td>\n",
       "      <td>Sunflowers</td>\n",
       "      <td></td>\n",
       "      <td>Drawings and Prints</td>\n",
       "    </tr>\n",
       "    <tr>\n",
       "      <th>6</th>\n",
       "      <td>656530</td>\n",
       "      <td></td>\n",
       "      <td>Sunflowers</td>\n",
       "      <td></td>\n",
       "      <td>Drawings and Prints</td>\n",
       "    </tr>\n",
       "    <tr>\n",
       "      <th>7</th>\n",
       "      <td>480725</td>\n",
       "      <td></td>\n",
       "      <td>Large Sunflowers</td>\n",
       "      <td></td>\n",
       "      <td>Modern and Contemporary Art</td>\n",
       "    </tr>\n",
       "    <tr>\n",
       "      <th>8</th>\n",
       "      <td>486590</td>\n",
       "      <td></td>\n",
       "      <td>Moroccan Sunflowers</td>\n",
       "      <td></td>\n",
       "      <td>Modern and Contemporary Art</td>\n",
       "    </tr>\n",
       "    <tr>\n",
       "      <th>9</th>\n",
       "      <td>485308</td>\n",
       "      <td></td>\n",
       "      <td>Sunflower</td>\n",
       "      <td></td>\n",
       "      <td>Modern and Contemporary Art</td>\n",
       "    </tr>\n",
       "  </tbody>\n",
       "</table>\n",
       "</div>"
      ],
      "text/plain": [
       "   objectID culture                  title period  \\\n",
       "0    436524                     Sunflowers          \n",
       "1    484935                     Sunflowers          \n",
       "2    437112          Bouquet of Sunflowers          \n",
       "3    210191           Vase with sunflowers          \n",
       "4    431264                     Sunflowers          \n",
       "5    397949                     Sunflowers          \n",
       "6    656530                     Sunflowers          \n",
       "7    480725               Large Sunflowers          \n",
       "8    486590            Moroccan Sunflowers          \n",
       "9    485308                      Sunflower          \n",
       "\n",
       "                               department  \n",
       "0                      European Paintings  \n",
       "1             Modern and Contemporary Art  \n",
       "2                      European Paintings  \n",
       "3  European Sculpture and Decorative Arts  \n",
       "4                     Drawings and Prints  \n",
       "5                     Drawings and Prints  \n",
       "6                     Drawings and Prints  \n",
       "7             Modern and Contemporary Art  \n",
       "8             Modern and Contemporary Art  \n",
       "9             Modern and Contemporary Art  "
      ]
     },
     "execution_count": 9,
     "metadata": {},
     "output_type": "execute_result"
    }
   ],
   "source": [
    "df[:10] #выведем первые 10 строк"
   ]
  },
  {
   "cell_type": "code",
   "execution_count": 10,
   "metadata": {},
   "outputs": [
    {
     "data": {
      "text/html": [
       "<div>\n",
       "<style scoped>\n",
       "    .dataframe tbody tr th:only-of-type {\n",
       "        vertical-align: middle;\n",
       "    }\n",
       "\n",
       "    .dataframe tbody tr th {\n",
       "        vertical-align: top;\n",
       "    }\n",
       "\n",
       "    .dataframe thead th {\n",
       "        text-align: right;\n",
       "    }\n",
       "</style>\n",
       "<table border=\"1\" class=\"dataframe\">\n",
       "  <thead>\n",
       "    <tr style=\"text-align: right;\">\n",
       "      <th></th>\n",
       "      <th>objectID</th>\n",
       "      <th>culture</th>\n",
       "      <th>title</th>\n",
       "      <th>period</th>\n",
       "      <th>department</th>\n",
       "    </tr>\n",
       "  </thead>\n",
       "  <tbody>\n",
       "    <tr>\n",
       "      <th>28</th>\n",
       "      <td>57922</td>\n",
       "      <td>Japan</td>\n",
       "      <td>Incense box</td>\n",
       "      <td>Edo period (1615–1868)</td>\n",
       "      <td>Asian Art</td>\n",
       "    </tr>\n",
       "  </tbody>\n",
       "</table>\n",
       "</div>"
      ],
      "text/plain": [
       "    objectID culture        title                  period department\n",
       "28     57922   Japan  Incense box  Edo period (1615–1868)  Asian Art"
      ]
     },
     "execution_count": 10,
     "metadata": {},
     "output_type": "execute_result"
    }
   ],
   "source": [
    "df[df.culture=='Japan'] #проверим корректность датасета"
   ]
  },
  {
   "cell_type": "markdown",
   "metadata": {},
   "source": [
    "# Задание №4"
   ]
  },
  {
   "cell_type": "markdown",
   "metadata": {},
   "source": [
    "Теперь попробуем построить более сложный запрос с помощью секции \"Search\"! На этот раз параметры необходимо передать через \"&\", например, departmentId (id департамента – 1) и q (ключевое слово – cat)."
   ]
  },
  {
   "cell_type": "markdown",
   "metadata": {},
   "source": [
    "Выполним поисковый запрос для департамента \"Asian art\" (departmentId = 6) с тегом \"cat\" и запишем id объектов в cat_ids. Используем цикл из Задания 3, чтобы получить данные о первой 1000 объектов из списка."
   ]
  },
  {
   "cell_type": "code",
   "execution_count": 11,
   "metadata": {},
   "outputs": [],
   "source": [
    "r = requests.get(f'https://collectionapi.metmuseum.org/public/collection/v1/search?departmentId=6&q=cat')\n",
    "cats = r.json()\n",
    "cat_ids = pd.DataFrame(cats)"
   ]
  },
  {
   "cell_type": "code",
   "execution_count": 12,
   "metadata": {},
   "outputs": [],
   "source": [
    "df2 = pd.DataFrame()"
   ]
  },
  {
   "cell_type": "code",
   "execution_count": 13,
   "metadata": {},
   "outputs": [],
   "source": [
    "for object in cat_ids['objectIDs'][:1000]:\n",
    "    r_test = requests.get(f'https://collectionapi.metmuseum.org/public/collection/v1/objects/'+str(object))\n",
    "    all_obj = r_test.json()\n",
    "    try:\n",
    "        df_temp = pd.DataFrame({'objectID':[all_obj['objectID']],\n",
    "                                'period':[all_obj['period']],\n",
    "                                'department':[all_obj['department']]})\n",
    "        df2 = pd.concat([df2,df_temp], ignore_index=True)\n",
    "    except:\n",
    "        continue"
   ]
  },
  {
   "cell_type": "code",
   "execution_count": 14,
   "metadata": {},
   "outputs": [
    {
     "data": {
      "text/html": [
       "<div>\n",
       "<style scoped>\n",
       "    .dataframe tbody tr th:only-of-type {\n",
       "        vertical-align: middle;\n",
       "    }\n",
       "\n",
       "    .dataframe tbody tr th {\n",
       "        vertical-align: top;\n",
       "    }\n",
       "\n",
       "    .dataframe thead th {\n",
       "        text-align: right;\n",
       "    }\n",
       "</style>\n",
       "<table border=\"1\" class=\"dataframe\">\n",
       "  <thead>\n",
       "    <tr style=\"text-align: right;\">\n",
       "      <th></th>\n",
       "      <th>objectID</th>\n",
       "      <th>period</th>\n",
       "      <th>department</th>\n",
       "    </tr>\n",
       "  </thead>\n",
       "  <tbody>\n",
       "    <tr>\n",
       "      <th>0</th>\n",
       "      <td>49698</td>\n",
       "      <td></td>\n",
       "      <td>Asian Art</td>\n",
       "    </tr>\n",
       "    <tr>\n",
       "      <th>1</th>\n",
       "      <td>49470</td>\n",
       "      <td>Qing dynasty (1644–1911)</td>\n",
       "      <td>Asian Art</td>\n",
       "    </tr>\n",
       "    <tr>\n",
       "      <th>2</th>\n",
       "      <td>53222</td>\n",
       "      <td>Muromachi period (1392–1573)</td>\n",
       "      <td>Asian Art</td>\n",
       "    </tr>\n",
       "    <tr>\n",
       "      <th>3</th>\n",
       "      <td>36221</td>\n",
       "      <td></td>\n",
       "      <td>Asian Art</td>\n",
       "    </tr>\n",
       "    <tr>\n",
       "      <th>4</th>\n",
       "      <td>60873</td>\n",
       "      <td>Song dynasty (960–1279) or later</td>\n",
       "      <td>Asian Art</td>\n",
       "    </tr>\n",
       "  </tbody>\n",
       "</table>\n",
       "</div>"
      ],
      "text/plain": [
       "   objectID                            period department\n",
       "0     49698                                    Asian Art\n",
       "1     49470          Qing dynasty (1644–1911)  Asian Art\n",
       "2     53222      Muromachi period (1392–1573)  Asian Art\n",
       "3     36221                                    Asian Art\n",
       "4     60873  Song dynasty (960–1279) or later  Asian Art"
      ]
     },
     "execution_count": 14,
     "metadata": {},
     "output_type": "execute_result"
    }
   ],
   "source": [
    "df2.head()"
   ]
  },
  {
   "cell_type": "code",
   "execution_count": 15,
   "metadata": {},
   "outputs": [
    {
     "data": {
      "text/plain": [
       "Edo period (1615–1868)                                          435\n",
       "                                                                123\n",
       "Qing dynasty (1644–1911)                                         45\n",
       "Muromachi period (1392–1573)                                     29\n",
       "Eastern Javanese period                                          29\n",
       "                                                               ... \n",
       "Malla period                                                      1\n",
       "Ming dynasty (1368–1644), Jiajing mark and period (1522–66)       1\n",
       "Qing dynasty (1644–1911), Kangxi mark and period (1662–1722)      1\n",
       "Qing dynasty (1644–1911), Yongzheng period (1723–35)              1\n",
       "late Edo (1615–1868)-early Meiji period (1868–1912)               1\n",
       "Name: period, Length: 97, dtype: int64"
      ]
     },
     "execution_count": 15,
     "metadata": {},
     "output_type": "execute_result"
    }
   ],
   "source": [
    "df2.period.value_counts() #проверяем результат"
   ]
  }
 ],
 "metadata": {
  "kernelspec": {
   "display_name": "Python 3 (ipykernel)",
   "language": "python",
   "name": "python3"
  },
  "language_info": {
   "codemirror_mode": {
    "name": "ipython",
    "version": 3
   },
   "file_extension": ".py",
   "mimetype": "text/x-python",
   "name": "python",
   "nbconvert_exporter": "python",
   "pygments_lexer": "ipython3",
   "version": "3.10.9"
  }
 },
 "nbformat": 4,
 "nbformat_minor": 4
}
